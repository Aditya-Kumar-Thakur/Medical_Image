{
 "cells": [
  {
   "cell_type": "code",
   "execution_count": 5,
   "id": "1719a01b-d6e9-4eeb-95db-a0825a24dad6",
   "metadata": {},
   "outputs": [
    {
     "name": "stdout",
     "output_type": "stream",
     "text": [
      "        file  MFCC_mean_1  MFCC_mean_2  MFCC_mean_3  MFCC_mean_4  MFCC_mean_5  \\\n",
      "0  002-0.wav   -446.29382    86.765960    -5.294920    28.469820   -17.292679   \n",
      "1  002-1.wav   -421.06010   114.080840    -8.984017    33.755820    -8.463714   \n",
      "2  002-2.wav   -596.38290    97.629370    14.578734    36.678670   -12.888764   \n",
      "3  002-3.wav   -375.87880   130.152310    -8.809953    19.351976    -5.502646   \n",
      "4  006-2.wav   -435.84897   126.387535    -3.383965    25.790960     5.103762   \n",
      "\n",
      "   MFCC_mean_6  MFCC_mean_7  MFCC_mean_8  MFCC_mean_9  ...  MFCC_std_6  \\\n",
      "0    32.021557   -15.026393    11.877666    -6.943803  ...    7.835843   \n",
      "1    17.082176   -11.197246    19.326450   -12.867030  ...    9.146154   \n",
      "2    28.457277   -16.582218    22.272170   -15.258055  ...    8.862555   \n",
      "3     6.662604   -15.499444     3.138857   -12.446197  ...    9.412769   \n",
      "4    -2.662090     8.466612    -1.084310   -15.088056  ...   15.580140   \n",
      "\n",
      "   MFCC_std_7  MFCC_std_8  MFCC_std_9  MFCC_std_10  MFCC_std_11  MFCC_std_12  \\\n",
      "0    8.140143    8.297432    7.463567     6.564733     7.129389     6.724895   \n",
      "1    8.693332    7.804402    7.567762     6.865503     6.689266     6.169443   \n",
      "2    9.557651    8.887612    7.240544     6.783076     6.574559     5.912820   \n",
      "3   10.483258   10.646757    8.716375     7.807625     7.612712     6.409214   \n",
      "4    9.020452    9.671136   15.025999     9.772135     8.494054     9.730843   \n",
      "\n",
      "   MFCC_std_13      pitch    energy  \n",
      "0     5.608456  1659.1686  0.003567  \n",
      "1     5.963038  1371.8520  0.005215  \n",
      "2     5.185659  1060.4094  0.001189  \n",
      "3     6.033992  1508.9904  0.016417  \n",
      "4     8.376861  1487.5972  0.010646  \n",
      "\n",
      "[5 rows x 29 columns]\n"
     ]
    }
   ],
   "source": [
    "import pandas as pd\n",
    "\n",
    "# Replace 'file_path.csv' with your actual file path\n",
    "file_path = r\"C:\\Users\\adity\\R3audio_features.csv\"\n",
    "\n",
    "# Reading the CSV file into a DataFrame\n",
    "data = pd.read_csv(file_path)\n",
    "\n",
    "# Displaying the first few rows of the DataFrame\n",
    "print(data.head())\n"
   ]
  },
  {
   "cell_type": "code",
   "execution_count": 2,
   "id": "674ecd47-214d-4e63-8b87-c49ae510bc20",
   "metadata": {},
   "outputs": [
    {
     "name": "stdout",
     "output_type": "stream",
     "text": [
      "Column names:\n",
      "['file', 'MFCC_mean_1', 'MFCC_mean_2', 'MFCC_mean_3', 'MFCC_mean_4', 'MFCC_mean_5', 'MFCC_mean_6', 'MFCC_mean_7', 'MFCC_mean_8', 'MFCC_mean_9', 'MFCC_mean_10', 'MFCC_mean_11', 'MFCC_mean_12', 'MFCC_mean_13', 'MFCC_std_1', 'MFCC_std_2', 'MFCC_std_3', 'MFCC_std_4', 'MFCC_std_5', 'MFCC_std_6', 'MFCC_std_7', 'MFCC_std_8', 'MFCC_std_9', 'MFCC_std_10', 'MFCC_std_11', 'MFCC_std_12', 'MFCC_std_13', 'pitch', 'energy']\n"
     ]
    }
   ],
   "source": [
    "print(\"Column names:\")\n",
    "print(data.columns.tolist())"
   ]
  },
  {
   "cell_type": "code",
   "execution_count": 4,
   "id": "d97c340c-8871-410d-aaca-94ea2ba167ec",
   "metadata": {},
   "outputs": [
    {
     "name": "stdout",
     "output_type": "stream",
     "text": [
      "           Model  Accuracy  Precision    Recall  F1-Score\n",
      "0  Decision Tree  1.000000   1.000000  1.000000  1.000000\n",
      "1  Random Forest  1.000000   1.000000  1.000000  1.000000\n",
      "2            SVM  0.450980   0.203383  0.450980  0.280339\n",
      "3    Naive Bayes  1.000000   1.000000  1.000000  1.000000\n",
      "4            KNN  0.490196   0.494057  0.490196  0.491376\n",
      "5            ANN  0.784314   0.802451  0.784314  0.776940\n"
     ]
    }
   ],
   "source": [
    "import pandas as pd\n",
    "import numpy as np\n",
    "from sklearn.model_selection import train_test_split\n",
    "from sklearn.metrics import precision_score, recall_score, f1_score, accuracy_score\n",
    "from sklearn.tree import DecisionTreeClassifier\n",
    "from sklearn.ensemble import RandomForestClassifier\n",
    "from sklearn.svm import SVC\n",
    "from sklearn.naive_bayes import GaussianNB\n",
    "from sklearn.neighbors import KNeighborsClassifier\n",
    "from sklearn.neural_network import MLPClassifier\n",
    "\n",
    "# Load the dataset\n",
    "file_path = r\"C:\\Users\\adity\\Combined_before_mid_sem.csv\"\n",
    "#file_path = 'file_path.csv'  # Replace with the actual file path\n",
    "data = pd.read_csv(file_path)\n",
    "\n",
    "# Define features and target\n",
    "X = data.drop(columns=['filename','energy','pitch'])  # Assuming 'file' is an identifier and 'energy' is the target column\n",
    "y = data['output']\n",
    "\n",
    "# Split the dataset into train and test sets\n",
    "X_train, X_test, y_train, y_test = train_test_split(X, y, test_size=0.20, random_state=42)\n",
    "\n",
    "# Initialize models\n",
    "models = {\n",
    "    'Decision Tree': DecisionTreeClassifier(random_state=42),\n",
    "    'Random Forest': RandomForestClassifier(random_state=42),\n",
    "    'SVM': SVC(probability=True, random_state=42),\n",
    "    'Naive Bayes': GaussianNB(),\n",
    "    'KNN': KNeighborsClassifier(),\n",
    "    'ANN': MLPClassifier(hidden_layer_sizes=(64, 16),random_state=42, max_iter=1000)\n",
    "}\n",
    "\n",
    "# Dictionary to store results\n",
    "results = {\n",
    "    'Model': [],\n",
    "    'Accuracy': [],\n",
    "    'Precision': [],\n",
    "    'Recall': [],\n",
    "    'F1-Score': []\n",
    "}\n",
    "\n",
    "# Train and evaluate each model\n",
    "for model_name, model in models.items():\n",
    "    # Train the model\n",
    "    model.fit(X_train, y_train)\n",
    "    \n",
    "    # Make predictions\n",
    "    y_pred = model.predict(X_test)\n",
    "    \n",
    "    # Evaluate metrics\n",
    "    accuracy = accuracy_score(y_test, y_pred)\n",
    "    precision = precision_score(y_test, y_pred, average='weighted', zero_division=0)\n",
    "    recall = recall_score(y_test, y_pred, average='weighted', zero_division=0)\n",
    "    f1 = f1_score(y_test, y_pred, average='weighted', zero_division=0)\n",
    "    \n",
    "    # Append results\n",
    "    results['Model'].append(model_name)\n",
    "    results['Accuracy'].append(accuracy)\n",
    "    results['Precision'].append(precision)\n",
    "    results['Recall'].append(recall)\n",
    "    results['F1-Score'].append(f1)\n",
    "\n",
    "# Convert results to a DataFrame for better visualization\n",
    "results_df = pd.DataFrame(results)\n",
    "print(results_df)\n"
   ]
  },
  {
   "cell_type": "code",
   "execution_count": null,
   "id": "342ac1e6-a2d7-400b-81a0-1303d2800231",
   "metadata": {},
   "outputs": [],
   "source": []
  }
 ],
 "metadata": {
  "kernelspec": {
   "display_name": "Python 3 (ipykernel)",
   "language": "python",
   "name": "python3"
  },
  "language_info": {
   "codemirror_mode": {
    "name": "ipython",
    "version": 3
   },
   "file_extension": ".py",
   "mimetype": "text/x-python",
   "name": "python",
   "nbconvert_exporter": "python",
   "pygments_lexer": "ipython3",
   "version": "3.12.7"
  }
 },
 "nbformat": 4,
 "nbformat_minor": 5
}
